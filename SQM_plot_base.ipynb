{
 "cells": [
  {
   "cell_type": "markdown",
   "id": "1ab90bfb-e922-4ee2-9325-4fa139cddfda",
   "metadata": {},
   "source": [
    "# SQM Plot - Base"
   ]
  },
  {
   "cell_type": "markdown",
   "id": "ae8fa4cc-cb10-4011-bee9-c39832a2f8b0",
   "metadata": {},
   "source": [
    "Este código foi feito com o intuito de gerar mapas de poluição luminosa a partir de dados fotométricos obtidos por meio de um Sky quality Meter (SQM). <br>\n",
    "***Code by Raimundo Ferreira (Projeto Astroturismo nos Parques Brasileiros)***"
   ]
  },
  {
   "cell_type": "markdown",
   "id": "e802ec8a-1a2b-4d18-b61d-fb9ed09e5297",
   "metadata": {},
   "source": [
    "### Importando bibliotecas -"
   ]
  },
  {
   "cell_type": "code",
   "execution_count": 1,
   "id": "f4dfd65f-e852-4813-86ce-bf4c2d2f080d",
   "metadata": {},
   "outputs": [],
   "source": [
    "import astropy #Biblioteca de funções astrofísicas\n",
    "import matplotlib.pyplot as plt #Biblioteca de geração de gráficos\n",
    "import matplotlib as mpl #Biblioteca de geração de gráficos\n",
    "import numpy as np #Biblioteca de manipulação de listas e matrizes\n",
    "import pandas as pd #Biblioteca de analise de banco de dados e leitura/escrita de arquivos externos\n",
    "from astroquery.vizier import Vizier #Biblioteca para importar catálogos astronômicos\n",
    "from astropy import units as u #Biblioteca utilitária para definir unidades de medidas\n",
    "from astropy.coordinates import SkyCoord, EarthLocation, AltAz, get_sun #Biblioteca de manipulação de cordenadas geográficas e astronômicas\n",
    "from astropy.time import Time #Biblioteca de manipulação de medidas de tempo\n",
    "from matplotlib.colors import LinearSegmentedColormap #Biblioteca para geração de barras de cores\n",
    "from matplotlib.offsetbox import OffsetImage, AnnotationBbox #Biblioteca utilitária para geração de gráficos\n",
    "from matplotlib.ticker import FormatStrFormatter #Biblioteca utilitária para geração de gráficos\n",
    "from mpl_toolkits.mplot3d import Axes3D #Biblioteca utilitária para geração de gráficos com 3 eixos\n",
    "from scipy.interpolate import griddata #Biblioteca de funções matemáticas para fazer a interpolação"
   ]
  },
  {
   "cell_type": "markdown",
   "id": "b7ef3e7a-72b5-4b53-844c-3f631162a5ad",
   "metadata": {},
   "source": [
    "### Definindo a Color Bar -"
   ]
  },
  {
   "cell_type": "markdown",
   "id": "ed13c14e-15d6-4d08-8670-d7dac73f1144",
   "metadata": {},
   "source": [
    "Geração de uma color bar personalizada, normalizada, para atender as necessidades do projeto. Nessa escala, o branco representa o céu mais \"claro\" ou seja, com maior presença da poluição luminosa."
   ]
  },
  {
   "cell_type": "code",
   "execution_count": 2,
   "id": "40704657-b926-48d8-8780-1652696192c6",
   "metadata": {},
   "outputs": [
    {
     "data": {
      "image/png": "[encoded data removed]",
      "text/plain": [
       "<Figure size 1500x100 with 1 Axes>"
      ]
     },
     "metadata": {},
     "output_type": "display_data"
    }
   ],
   "source": [
    "#Definindo as cores e a posição na color bar\n",
    "cores = ['white', \"lightgray\", 'magenta', 'red' ,'yellow', 'lime', 'cyan', 'blue', \"dimgrey\" ,'black']\n",
    "posicoes = [0, 0.075, 0.15, 0.2333333333333333, 0.4383333333333333, 0.62, 0.6916666666666667, 0.8416666666666667, 0.9083333333333334, 1]\n",
    "\n",
    "#Gerando uma matriz 2x9, para atribuir uma cor para cada posição da lista. Type list\n",
    "cores_cont = [(posicoes[i], cor) for i, cor in enumerate(cores)]\n",
    "\n",
    "#Transformação da matriz na color bar.\n",
    "cmap = LinearSegmentedColormap.from_list('MeuColormap', cores_cont, N=500) #N indica a quantidade de cores dentro da color bar entre as primárias de input\n",
    "\n",
    "#Visualização da color bar\n",
    "fig, ax = plt.subplots(figsize=(15, 1))\n",
    "cbar = plt.colorbar(plt.cm.ScalarMappable(cmap=cmap), cax=ax, orientation='horizontal')\n",
    "cbar.set_label('SQM_COLORBAR')\n",
    "plt.show()"
   ]
  },
  {
   "cell_type": "markdown",
   "id": "08428c60-2bf7-411a-a68b-74b0bfd648b1",
   "metadata": {},
   "source": [
    "### Busca pelas cordenadas estelares"
   ]
  },
  {
   "cell_type": "markdown",
   "id": "e5911234-bfa3-4911-8dc3-7d701d98b63a",
   "metadata": {},
   "source": [
    "A parte mais técnica do código. Utilizamos de um função definida como estelar_az_al() para retornar os valores de Azimute e Altitude das estrelas com magnitude inferir a 6 mag visível durante o momento de geração do mapa. <br>\n",
    "A entrada da função será 3 variáveis, 2 floats que indicarão os valores de latitude e longitude de onde os dados foram obtidos, e uma string no formato (\"YYY-MM-DDThh:mm:s\"), indicando o dia e o horário em que os valores foram coletados. <br>\n",
    "O catálogo de onde os dados são obtidos é o The Hipparcos Main Catalogue."
   ]
  },
  {
   "cell_type": "code",
   "execution_count": 3,
   "id": "c92ab759-df75-423d-8608-eca30d520e64",
   "metadata": {},
   "outputs": [],
   "source": [
    "def estelar_az_al(latitude, longitude, dados_tempo):\n",
    "    ''' \n",
    "    Está função recebe os dados geográficos e temporais e retorna as cordenadas das estrelas visíveis no céu com magnitude inferior a 6mag.\n",
    "\n",
    "    Parameters:\n",
    "        latitude (float): Latitude de onde os dados foram obtidos, em números inteiros. Valores positivos para Leste e Negativos para Oeste.\n",
    "        longitude (float): Longitude de onde os dados foram obtidos, em números inteiros. Valores positivos para Norte e Negativos para Sul.\n",
    "        dados_tempo (string): Na forma de 2000-00-00T00:00:00 (ano-mes-dataThora:min:seg), representa os valores temporais de quando os dados foram coletados\n",
    "        \n",
    "    Return:\n",
    "        vmag (array[float]): Magnitude da banda V dos objetos\n",
    "        azimuth (array[float]):\n",
    "        altitude (array[float]): \n",
    "    '''\n",
    "    data_location = EarthLocation(lat=float(latitude)*u.deg, lon=float(longitude)*u.deg) #Transformando os valores de latitude e longitude no objeto EarthLocation\n",
    "    obs_time = dados_tempo #Transformando os valores temporais no objeto Time\n",
    "\n",
    "    #Acessando o catalogo Hipparcos\n",
    "    vizier = Vizier(catalog='I/239')\n",
    "    vizier.ROW_LIMIT = 100000000000 #Limite de objetos buscados\n",
    "\n",
    "    #Definindo a região que será buscada no céu e impondo o limite de magnitude\n",
    "    result = vizier.query_region(SkyCoord(ra=0, dec=0, unit=(u.deg, u.deg), frame='icrs'), radius=180*u.deg, column_filters={\"Vmag\": \"<6\"}) \n",
    "    table = result['I/239/hip_main'] #Geração da tabela com todos os dados coletados no Hipparcos\n",
    "\n",
    "    #Gerando uma array (lista) apenas com os valores de RA e DEC\n",
    "    ra = np.array(table[\"RAICRS\"])\n",
    "    dec = np.array(table[\"DEICRS\"])\n",
    "\n",
    "    #Transformando os valores de RA e DEC em AZ e ALT\n",
    "    altaz_frame = AltAz(obstime=obs_time, location=data_location)\n",
    "    coords_altaz = SkyCoord(ra, dec, unit=(u.deg, u.deg)).transform_to(altaz_frame)\n",
    "\n",
    "    #Definindo os valores a serem retornados\n",
    "    vmag = np.array(table[\"Vmag\"]) \n",
    "    azimuth = np.array(coords_altaz.az.deg)\n",
    "    altitude = np.array(coords_altaz.alt)\n",
    "\n",
    "    return vmag, azimuth, altitude"
   ]
  },
  {
   "cell_type": "markdown",
   "id": "7dd9100d-8ef6-418c-805b-eb894864b456",
   "metadata": {},
   "source": [
    "### Geração dos mapas"
   ]
  },
  {
   "cell_type": "markdown",
   "id": "f276b2a7-6932-4393-9c93-1e32f7706f62",
   "metadata": {},
   "source": [
    "A coleta de dados é feito pela medição de 50 pontos do céu. Como a ideia aqui é geração de um mapa, esses pontos coletados são interpolados na grade em projeção polar. <br>\n",
    "O input inicial é feito com a entrada do arquivo .csv com os pontos medidos com o fotômetros. <br>\n",
    "O código ainda está em otimização, e é necessário que os valores que ocupam a posição do 0º seja também repetido para 360º para complementar a interpolação, isso ainda deve ser feito manualmente."
   ]
  },
  {
   "cell_type": "code",
   "execution_count": 4,
   "id": "92786e2e-19dc-415a-b1a4-ab601a2d8e01",
   "metadata": {},
   "outputs": [
    {
     "data": {
      "text/plain": [
       "(array([5.71, 5.53, 4.78, ..., 5.59, 5.81, 4.49], dtype=float32),\n",
       " array([139.42407001, 141.35950976, 169.48139707, ..., 111.83276838,\n",
       "         38.48883243, 158.82922024]),\n",
       " array([44.48856844, 43.84998344, 29.19726183, ..., 49.07450666,\n",
       "        21.42860762, 36.41802331]))"
      ]
     },
     "execution_count": 4,
     "metadata": {},
     "output_type": "execute_result"
    }
   ],
   "source": [
    "estelar_az_al(-20.250, -46.4149, \"2024-07-10T04:55:00\") #PESET - lat=-23, lon=-43, obstime=2023-09-08T20:45:00\n",
    "                                                        #Curral de pedras -20.2185, -46.4968, \"2024-07-11T04:55:00\"\n",
    "                                                        #Trilha -20.2500, -46.4149, \"2024-07-10T04:55:00\""
   ]
  },
  {
   "cell_type": "code",
   "execution_count": null,
   "id": "637f914d-8cba-434b-8458-04556517592f",
   "metadata": {},
   "outputs": [],
   "source": [
    "#Input do diretório do arquivo .csv com os dados medidos\n",
    "    # /home/raimundo/Documentos/UFRJ/Extensão/Astroturismo/ov.csv\n",
    "    # /home/raimundo/Documentos/UFRJ/Extensão/Astroturismo/sqm.csv\n",
    "    # /home/raimundo/Documentos/UFRJ/Extensão/Astroturismo/teste.csv\n",
    "dir = str(input(\"Informe o diretório do arquivo .csv: \"))\n",
    "\n",
    "#Leitura do arquivo de entrada\n",
    "df = pd.read_csv(dir, sep=\",\")\n",
    "\n",
    "#Acessando os valores do arquivo\n",
    "theta = np.radians(df['AZIMUTE'])\n",
    "r = df['ALTURA']\n",
    "values = df['SQM-L']"
   ]
  },
  {
   "cell_type": "markdown",
   "id": "56fd5914-cfb8-4052-9c00-f6863079e7dc",
   "metadata": {},
   "source": [
    "#### Definindo as configurações de layout na color bar -"
   ]
  },
  {
   "cell_type": "code",
   "execution_count": null,
   "id": "8252eebd-0217-4e45-acd9-7080f7457e2e",
   "metadata": {},
   "outputs": [],
   "source": [
    "cbar_min = 16 #Limite inferior de magnitude\n",
    "cbar_max = 22 #Limite superior de magnitude\n",
    "\n",
    "cbar_levels = np.linspace(cbar_min, cbar_max, 1000) #Determinando a quantidade de valores entre o mínimo e o máximo"
   ]
  },
  {
   "cell_type": "markdown",
   "id": "5c9e69f6-d99a-4474-9c65-f6a82ab5a064",
   "metadata": {},
   "source": [
    "#### Definindo a grade de valores do plot polar - "
   ]
  },
  {
   "cell_type": "markdown",
   "id": "9f2bcd76-8f6b-45cf-a8a1-25711bb42725",
   "metadata": {},
   "source": [
    "A interpolação linear ajusta uma curva linear, gerando um plot menos suave. Já a interpolação cública ajusta uma função de 3 grau, de forma a suavizar o plot."
   ]
  },
  {
   "cell_type": "code",
   "execution_count": null,
   "id": "f569a62d-56fb-4a04-b8da-35cd024718a8",
   "metadata": {},
   "outputs": [],
   "source": [
    "#Criando a lista de valores para os angulos e raio do plot polar, quando maior o valor, mais suave o plot\n",
    "theta_interp = np.linspace(0, 2 * np.pi, 2000)\n",
    "r_interp = np.linspace(r.min(), r.max(), 2000)\n",
    "\n",
    "theta_grid, r_grid = np.meshgrid(theta_interp, r_interp) #Geração da grade com as listas geradas\n",
    "\n",
    "#Atribuindo o valor nos pontos da grade através da interpolação dos pontos coletados\n",
    "values_grid = griddata((theta, r), values, (theta_grid, r_grid), method='cubic', fill_value=0) #Método de interpolação"
   ]
  },
  {
   "cell_type": "markdown",
   "id": "97763312-6989-4ab4-9765-a7dea5b139b8",
   "metadata": {},
   "source": [
    "#### Plot - "
   ]
  },
  {
   "cell_type": "code",
   "execution_count": null,
   "id": "428ae91a-a017-452b-b1e8-cc9461e9e85c",
   "metadata": {},
   "outputs": [],
   "source": [
    "#Parâmetros da figura\n",
    "fig, ax = plt.subplots(subplot_kw={'projection': 'polar'}, figsize = (14,10)) #figsize, define o tamanho da imagem como um todo\n",
    "plt.title('Pico do Grama - PESB', fontsize = 18, y=1.08) #Título do plot\n",
    "\n",
    "ax.set_xlim(np.radians(-45),np.radians(135))\n",
    "ax.set_theta_offset(np.radians(90)) #Coloca o Norte na parte superior\n",
    "ax.set_theta_direction(-1) #Inverte o sentido do azimmute\n",
    "ax.set_ylim(90,40) #Limita os valores de altura entre 90 - 20º,invertendo a situação original (0 - 90) e limitando\n",
    "\n",
    "\n",
    "#Gerando os gráficos \n",
    "contour = ax.contourf(theta_grid, r_grid, values_grid, levels=cbar_levels, extend='both', cmap=cmap) #Contornos preenchidos\n",
    "#contour_plot = ax.contour(theta_grid, r_grid, values_grid, levels=5, colors='white', linewidths=1.5, alpha= 0.6) #Linhas de nível\n",
    "\n",
    "#Inserindo a colorbar personalizada\n",
    "cbar = plt.colorbar(contour, label='Escala de magnitude')\n",
    "cbar.ax.yaxis.set_major_formatter(FormatStrFormatter('%.1f'))\n",
    "\n",
    "plt.text(1.09, 1.05, 'SQM', transform=ax.transAxes, fontsize=16, ha=\"center\") #Título da colorbar\n",
    "plt.text(1.09, 1.02, '(mag/arcsec²)', transform=ax.transAxes, fontsize=10, ha=\"center\") #Grandeeza da medida\n",
    "\n",
    "#Inserir textos\n",
    "plt.text(0.12, -0.07, 'Data - 08/08/2024', transform=ax.transAxes, fontsize=13)\n",
    "plt.text(0.12, -0.11, 'Hora - 23:30h', transform=ax.transAxes, fontsize=13)\n",
    "\n",
    "plt.text(0.78, -0.07, 'Zênite - $21.59 \\pm 0.00$', transform=ax.transAxes, fontsize=13)\n",
    "plt.text(0.78, -0.11, 'Temperatura = $10.0°$', transform=ax.transAxes, fontsize=13)\n",
    "\n",
    "#Plotar mapa estelar\n",
    "vmag, azimuth, altitude = estelar_az_al(-20.7259, -42.4790, \"2024-08-08T23:30:00\") #PESET - lat=-23, lon=-43, obstime=2023-09-08T20:45:00\n",
    "                                                                            #OV - lat=-22.89, lon=-43.18, obstime=2023-03-22T20:45:00\n",
    "plt.scatter(np.radians(azimuth), altitude, marker='o', label='Objetos', color=\"white\", s=(83 - 110 * np.log10(vmag))*0.7, alpha = 0.8)\n",
    "\n",
    "#Configurações finais do plot\n",
    "plt.savefig('capela.png', dpi=500, bbox_inches='tight') #Salva o plot em uma imagem .png\n",
    "plt.show()"
   ]
  },
  {
   "cell_type": "code",
   "execution_count": null,
   "id": "1c859323-74b3-4aca-a138-30a67f854c53",
   "metadata": {},
   "outputs": [],
   "source": []
  },
  {
   "cell_type": "code",
   "execution_count": null,
   "id": "e9620d84-772c-4884-bead-7c87a7b04870",
   "metadata": {},
   "outputs": [],
   "source": []
  }
 ],
 "metadata": {
  "kernelspec": {
   "display_name": "Python 3 (ipykernel)",
   "language": "python",
   "name": "python3"
  },
  "language_info": {
   "codemirror_mode": {
    "name": "ipython",
    "version": 3
   },
   "file_extension": ".py",
   "mimetype": "text/x-python",
   "name": "python",
   "nbconvert_exporter": "python",
   "pygments_lexer": "ipython3",
   "version": "3.12.3"
  }
 },
 "nbformat": 4,
 "nbformat_minor": 5
}
